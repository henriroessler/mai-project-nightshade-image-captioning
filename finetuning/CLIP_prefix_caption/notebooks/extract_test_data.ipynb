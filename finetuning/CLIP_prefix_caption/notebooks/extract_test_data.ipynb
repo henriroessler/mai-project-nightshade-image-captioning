{
 "cells": [
  {
   "cell_type": "code",
   "execution_count": 1,
   "metadata": {},
   "outputs": [],
   "source": [
    "import os\n",
    "import json\n",
    "import pickle\n",
    "from torchvision.datasets import CocoDetection\n",
    "from pycocotools.coco import COCO"
   ]
  },
  {
   "cell_type": "code",
   "execution_count": 2,
   "metadata": {},
   "outputs": [],
   "source": [
    "with open(\"/home/atuin/g103ea/shared/coco2014/coco_split.json\", \"r\") as f:\n",
    "    splits = json.load(f)"
   ]
  },
  {
   "cell_type": "code",
   "execution_count": 3,
   "metadata": {},
   "outputs": [],
   "source": [
    "valid_image_ids = []\n",
    "for split in [\"test\"]:\n",
    "    valid_image_ids.extend(splits[split])"
   ]
  },
  {
   "cell_type": "code",
   "execution_count": 4,
   "metadata": {},
   "outputs": [
    {
     "name": "stdout",
     "output_type": "stream",
     "text": [
      "loading annotations into memory...\n"
     ]
    },
    {
     "name": "stdout",
     "output_type": "stream",
     "text": [
      "Done (t=16.60s)\n",
      "creating index...\n",
      "index created!\n"
     ]
    }
   ],
   "source": [
    "dataset = CocoDetection(\n",
    "    \"/home/atuin/g103ea/shared/coco2014/images\",\n",
    "    \"/home/atuin/g103ea/shared/coco2014/annotations/instances_all2014.json\",\n",
    ")"
   ]
  },
  {
   "cell_type": "code",
   "execution_count": 5,
   "metadata": {},
   "outputs": [],
   "source": [
    "label_ids = {}\n",
    "for i, j in dataset.coco.cats.items():\n",
    "    label_ids[j[\"name\"]] = i"
   ]
  },
  {
   "cell_type": "code",
   "execution_count": 37,
   "metadata": {},
   "outputs": [
    {
     "name": "stdout",
     "output_type": "stream",
     "text": [
      "loading annotations into memory...\n"
     ]
    },
    {
     "name": "stdout",
     "output_type": "stream",
     "text": [
      "Done (t=1.75s)\n",
      "creating index...\n",
      "index created!\n"
     ]
    }
   ],
   "source": [
    "target_categories = [\n",
    "    \"bottle\"\n",
    "]\n",
    "coco_captions = COCO(\n",
    "    \"/home/atuin/g103ea/shared/coco2014/annotations/captions_all2014.json\"\n",
    ")\n",
    "get_captions = lambda image_id: [\n",
    "    ann[\"caption\"] for ann in coco_captions.imgToAnns[image_id]\n",
    "]"
   ]
  },
  {
   "cell_type": "code",
   "execution_count": 38,
   "metadata": {},
   "outputs": [
    {
     "name": "stdout",
     "output_type": "stream",
     "text": [
      "bottle ---> 1128\n"
     ]
    }
   ],
   "source": [
    "for cat in target_categories:\n",
    "    valid_images = []\n",
    "    for img_id in dataset.coco.catToImgs[label_ids[cat]]:\n",
    "        if img_id in valid_image_ids:\n",
    "            valid_images.append(\n",
    "                {\n",
    "                    \"image_id\": img_id,\n",
    "                    \"image_path\": os.path.join(\n",
    "                        \"/home/atuin/g103ea/shared/coco2014/images\",\n",
    "                        dataset.coco.imgs[img_id][\"file_name\"],\n",
    "                    ),\n",
    "                    \"captions\": get_captions(img_id),\n",
    "                }\n",
    "            )\n",
    "    print(cat, \"--->\", len(valid_images))\n",
    "    pickle.dump(\n",
    "        valid_images,\n",
    "        open(\n",
    "            os.path.join(\n",
    "                \"/home/hpc/g103ea/g103ea14/mai/CLIP_prefix_caption/test_data\",\n",
    "                cat + \".pkl\",\n",
    "            ),\n",
    "            \"wb\",\n",
    "        ),\n",
    "    )"
   ]
  },
  {
   "cell_type": "code",
   "execution_count": 15,
   "metadata": {},
   "outputs": [
    {
     "name": "stdout",
     "output_type": "stream",
     "text": [
      "143\n",
      "141\n",
      "141\n",
      "Added 141 / 143 valid images for skateboard, {'image_id': 274455, 'image_path': '/home/atuin/g103ea/shared/coco2014/images/COCO_val2014_000000274455.jpg', 'captions': ['A man riding a skateboard on top of pavement.', 'A skateboarder is taking a break at a skatepark. ', 'A man at a skate park with his foot on the side of the skateboard.', \"A person with their food on a skateboard that's on the ground.\", 'A skateboarder with his foot on his board that is laying on its side.']}\n",
      "added to path /home/hpc/g103ea/g103ea14/mai/CLIP_prefix_caption/test_subset/skateboard.pkl\n",
      "-----------------------------------------------------\n",
      "118\n",
      "115\n",
      "115\n",
      "Added 115 / 118 valid images for horse, {'image_id': 449274, 'image_path': '/home/atuin/g103ea/shared/coco2014/images/COCO_val2014_000000449274.jpg', 'captions': ['A horse running on a dirt road in the open.', 'The rider view of a horse ride on the beach.', 'there is a horse that is walking along the water on the beach', 'A horse is walking in the sand along the water.', 'A view from the back of a brown horse on a beach.']}\n",
      "added to path /home/hpc/g103ea/g103ea14/mai/CLIP_prefix_caption/test_subset/horse.pkl\n",
      "-----------------------------------------------------\n",
      "382\n",
      "262\n",
      "262\n",
      "Added 262 / 382 valid images for cup, {'image_id': 500019, 'image_path': '/home/atuin/g103ea/shared/coco2014/images/COCO_val2014_000000500019.jpg', 'captions': ['A woman with her pants pulled down on the toilet.', 'A woman sitting down on a toilet with her pants down.', 'A woman in pink is sitting on a toilet.', 'a woman cupping a cup in both hands with her pants pulled down while sitting on the toilet', 'A woman sitting on the toilet with a cup of coffee.']}\n",
      "added to path /home/hpc/g103ea/g103ea14/mai/CLIP_prefix_caption/test_subset/cup.pkl\n",
      "-----------------------------------------------------\n",
      "522\n",
      "459\n",
      "459\n",
      "Added 459 / 522 valid images for car, {'image_id': 476339, 'image_path': '/home/atuin/g103ea/shared/coco2014/images/COCO_val2014_000000476339.jpg', 'captions': ['Parking meter that is expired, with damp street below', 'A metal parking meter sitting on the side of a road.', 'a black parking meter on a green pole', 'A rainy street scene has a yellow line with a car moving by it, and in the foreground, a parking meter. ', 'An old looking coin meter that has expired on a rainy day.']}\n",
      "added to path /home/hpc/g103ea/g103ea14/mai/CLIP_prefix_caption/test_subset/car.pkl\n",
      "-----------------------------------------------------\n",
      "74\n",
      "56\n",
      "56\n",
      "Added 56 / 74 valid images for orange, {'image_id': 156242, 'image_path': '/home/atuin/g103ea/shared/coco2014/images/COCO_val2014_000000156242.jpg', 'captions': ['Piles of different types of fruit in a grocery store.', 'A bunch of fruits lie on display on a stand.', 'The fruit stand has many types of apples, oranges and melons. ', 'Multiple fruits in the produce section of a grocery store.', 'Apples and oranges are displayed at a fruit market.']}\n",
      "added to path /home/hpc/g103ea/g103ea14/mai/CLIP_prefix_caption/test_subset/orange.pkl\n",
      "-----------------------------------------------------\n",
      "128\n",
      "128\n",
      "128\n",
      "Added 128 / 128 valid images for wine glass, {'image_id': 165009, 'image_path': '/home/atuin/g103ea/shared/coco2014/images/COCO_val2014_000000165009.jpg', 'captions': ['a man and woman stand next to a wedding cake ', 'a bride and groom eating wedding cake ', 'A man and a woman standing next to a cake on a table.', 'A married couple are standing by their cake. ', 'A bride and a man talking next to a cake.']}\n",
      "added to path /home/hpc/g103ea/g103ea14/mai/CLIP_prefix_caption/test_subset/wine glass.pkl\n",
      "-----------------------------------------------------\n",
      "192\n",
      "192\n",
      "192\n",
      "Added 192 / 192 valid images for cat, {'image_id': 45108, 'image_path': '/home/atuin/g103ea/shared/coco2014/images/COCO_val2014_000000045108.jpg', 'captions': ['A couple of cats taking a nap on top of a bed.', 'Two kittens are cuddling and enjoying a soft pillow', 'two cats resting side by side on a bed', 'Two small cats are sleeping on white sheets.', 'Two kittens curled up in a white sheet that looks soft.']}\n",
      "added to path /home/hpc/g103ea/g103ea14/mai/CLIP_prefix_caption/test_subset/cat.pkl\n",
      "-----------------------------------------------------\n",
      "205\n",
      "205\n",
      "205\n",
      "Added 205 / 205 valid images for sink, {'image_id': 177262, 'image_path': '/home/atuin/g103ea/shared/coco2014/images/COCO_val2014_000000177262.jpg', 'captions': ['A cat sitting on a bathroom counter behind a hair dryer.', 'A cat getting his fur blow dried after getting a bath.', 'The cat is seen twice because of a mirror.', 'A cat snooping in a bag on a bathroom counter.', 'A cat laying in front of a bathroom mirror.']}\n",
      "added to path /home/hpc/g103ea/g103ea14/mai/CLIP_prefix_caption/test_subset/sink.pkl\n",
      "-----------------------------------------------------\n",
      "139\n",
      "138\n",
      "138\n",
      "Added 138 / 139 valid images for boat, {'image_id': 516750, 'image_path': '/home/atuin/g103ea/shared/coco2014/images/COCO_val2014_000000516750.jpg', 'captions': ['Two kayaks, one pink the other yellow, on bank of water. ', 'Two kayaks rest on the shore of a body of water.', 'Two kayaks sitting on the shore of a body of water.', 'Two kayaks are shown on the shore. ', 'Two kayaks are sitting on a river bank empty.']}\n",
      "added to path /home/hpc/g103ea/g103ea14/mai/CLIP_prefix_caption/test_subset/boat.pkl\n",
      "-----------------------------------------------------\n",
      "2627\n",
      "1000\n",
      "1000\n",
      "Added 1000 / 2627 valid images for person, {'image_id': 73256, 'image_path': '/home/atuin/g103ea/shared/coco2014/images/COCO_val2014_000000073256.jpg', 'captions': ['A red bus driving in front of a double decker bus.', 'Two red passenger buses on a city street together. ', 'Two buses are traveling down a city street.', 'Red London buses driving down a city street', 'Two red busses are traversing next to a tall brick building.']}\n",
      "added to path /home/hpc/g103ea/g103ea14/mai/CLIP_prefix_caption/test_subset/person.pkl\n",
      "-----------------------------------------------------\n",
      "156\n",
      "154\n",
      "154\n",
      "Added 154 / 156 valid images for surfboard, {'image_id': 434177, 'image_path': '/home/atuin/g103ea/shared/coco2014/images/COCO_val2014_000000434177.jpg', 'captions': ['a group of people walk on a beach with surf boards', 'The surfers are headed towards the exciting wave.', 'Group of people entering wake near the ocean.', 'People holding surfboards are walking into the ocean.', 'A surferboard group stand sont he beach in the water']}\n",
      "added to path /home/hpc/g103ea/g103ea14/mai/CLIP_prefix_caption/test_subset/surfboard.pkl\n",
      "-----------------------------------------------------\n",
      "84\n",
      "81\n",
      "81\n",
      "Added 81 / 84 valid images for cow, {'image_id': 316041, 'image_path': '/home/atuin/g103ea/shared/coco2014/images/COCO_val2014_000000316041.jpg', 'captions': ['A big brown cow with horns standing in a big grassy field', 'A large brown cow standing on top of a grass field.', 'This is a cow on a grassy plane with a mountain in the background.', 'The cow was walking through the pasture near the hills.', 'A cow standing in a grassy field near purple flowers.']}\n",
      "added to path /home/hpc/g103ea/g103ea14/mai/CLIP_prefix_caption/test_subset/cow.pkl\n",
      "-----------------------------------------------------\n",
      "369\n",
      "249\n",
      "249\n",
      "Added 249 / 369 valid images for bottle, {'image_id': 147409, 'image_path': '/home/atuin/g103ea/shared/coco2014/images/COCO_val2014_000000147409.jpg', 'captions': ['A bus driving across a cross walk near a tall building.', 'A bus travelling through an intersection with a beer advertisement on the side of the bus. ', 'A Nashville bus with a big ad for Coors Light on the side. ', 'This is a bus with a Titans themed advertisement for Coors Light on the side.', 'A beer advertisement on the side of a passenger bus.']}\n",
      "added to path /home/hpc/g103ea/g103ea14/mai/CLIP_prefix_caption/test_subset/bottle.pkl\n",
      "-----------------------------------------------------\n",
      "148\n",
      "85\n",
      "85\n",
      "Added 85 / 148 valid images for motorcycle, {'image_id': 210982, 'image_path': '/home/atuin/g103ea/shared/coco2014/images/COCO_val2014_000000210982.jpg', 'captions': ['A group of parked motorcycles sitting on the side of a road.', 'There are many motorcycles parked in front of the old building.', 'Several police motorcycles parked on a walkway with people standing around.', 'A group of people looking at police motorcycles.', 'People standing behind a gate, looking at motorcycles that are parked on a brick road.']}\n",
      "added to path /home/hpc/g103ea/g103ea14/mai/CLIP_prefix_caption/test_subset/motorcycle.pkl\n",
      "-----------------------------------------------------\n",
      "80\n",
      "62\n",
      "62\n",
      "Added 62 / 80 valid images for banana, {'image_id': 458567, 'image_path': '/home/atuin/g103ea/shared/coco2014/images/COCO_val2014_000000458567.jpg', 'captions': ['A pile of green bananas sitting on top of a table.', 'A large number of bananas for sale on a table', 'A table covered in a colorful table cloth stacked with bananas for sale. ', 'The bananas are being sold for cheap at a farmers market ', 'A table full of fresh green bananas for sale.']}\n",
      "added to path /home/hpc/g103ea/g103ea14/mai/CLIP_prefix_caption/test_subset/banana.pkl\n",
      "-----------------------------------------------------\n",
      "192\n",
      "192\n",
      "192\n",
      "Added 192 / 192 valid images for traffic light, {'image_id': 246650, 'image_path': '/home/atuin/g103ea/shared/coco2014/images/COCO_val2014_000000246650.jpg', 'captions': ['A smaller car is stopped at the red light, as traffic drives on. ', 'Intersection with cars pulled up to red light with trees lining road.', 'A car that is sitting underneath a stop light.', 'A car stopped at a red light at an intersection.', 'A picture of a intersection at a red light. ']}\n",
      "added to path /home/hpc/g103ea/g103ea14/mai/CLIP_prefix_caption/test_subset/traffic light.pkl\n",
      "-----------------------------------------------------\n",
      "146\n",
      "146\n",
      "146\n",
      "Added 146 / 146 valid images for train, {'image_id': 278747, 'image_path': '/home/atuin/g103ea/shared/coco2014/images/COCO_val2014_000000278747.jpg', 'captions': ['A subway station above groundtrain with a small green building.', 'A very long elevated train is making its way through the city.', 'A photo of four different train tracks and a train on one of them.', 'A big train riding along on the train tracks', 'The train is going down the railroad tracks. ']}\n",
      "added to path /home/hpc/g103ea/g103ea14/mai/CLIP_prefix_caption/test_subset/train.pkl\n",
      "-----------------------------------------------------\n",
      "212\n",
      "212\n",
      "212\n",
      "Added 212 / 212 valid images for backpack, {'image_id': 389644, 'image_path': '/home/atuin/g103ea/shared/coco2014/images/COCO_val2014_000000389644.jpg', 'captions': ['People standing around a table with plates on it.', 'people having a cookout celebration in their backyard', 'a party with orange and pink decoration and food', 'A group of people standing around a table.', 'A few people are eating food at a party.']}\n",
      "added to path /home/hpc/g103ea/g103ea14/mai/CLIP_prefix_caption/test_subset/backpack.pkl\n",
      "-----------------------------------------------------\n",
      "106\n",
      "105\n",
      "105\n",
      "Added 105 / 106 valid images for sandwich, {'image_id': 118367, 'image_path': '/home/atuin/g103ea/shared/coco2014/images/COCO_val2014_000000118367.jpg', 'captions': ['Hot dog on a roll with cheese, onions, and herbs.', 'A sandwich has cilantro, carrots, and other vegetables.', 'A hotdog completely loaded with onions and leaves', 'A hand holding a hot dog on a  bun in a  wrapper.', 'The hotdog bun is filled with carrots and greens.']}\n",
      "added to path /home/hpc/g103ea/g103ea14/mai/CLIP_prefix_caption/test_subset/sandwich.pkl\n",
      "-----------------------------------------------------\n",
      "113\n",
      "75\n",
      "75\n",
      "Added 75 / 113 valid images for airplane, {'image_id': 112956, 'image_path': '/home/atuin/g103ea/shared/coco2014/images/COCO_val2014_000000112956.jpg', 'captions': ['A red, grey and white airplane passes overhead.', 'A view from the ground of the bottom of an airplane.', 'A jet airplane is flying through the sky.', 'The underside of a passenger airliner taking off.', 'there is a small plane that is flying in the sky']}\n",
      "added to path /home/hpc/g103ea/g103ea14/mai/CLIP_prefix_caption/test_subset/airplane.pkl\n",
      "-----------------------------------------------------\n"
     ]
    }
   ],
   "source": [
    "import pickle\n",
    "import numpy as np\n",
    "import os\n",
    "results = []\n",
    "images_dir = \"/home/hpc/g103ea/g103ea14/mai/CLIP_prefix_caption/test_data\"\n",
    "dest_dir = \"/home/hpc/g103ea/g103ea14/mai/CLIP_prefix_caption/test_subset\"\n",
    "for cat1, cat2 in cc.items():\n",
    "    images = pickle.load(open(os.path.join(images_dir, cat1+\".pkl\"), \"rb\"))\n",
    "    images_d = {i[\"image_id\"]: i for i in images}\n",
    "    print(len(images_d))\n",
    "\n",
    "    valid_ids = filter_image_ids(sorted(images_d.keys()), label_ids[cat2])\n",
    "    valid_ids = np.random.choice(valid_ids, min(1000, len(valid_ids)), replace=False)\n",
    "    print(len(valid_ids))\n",
    "\n",
    "    valid_images = [images_d[i] for i in valid_ids]\n",
    "    print(len(valid_images))\n",
    "    \n",
    "    pickle.dump(valid_images, open(os.path.join(dest_dir, cat1+\".pkl\"), \"wb\"))\n",
    "    print(f\"Added {len(valid_images)} / {len(images_d)} valid images for {cat1}, {valid_images[0]}\")\n",
    "    print(f\"added to path {os.path.join(dest_dir, cat1+'.pkl')}\")\n",
    "    print(\"-----------------------------------------------------\")"
   ]
  }
 ],
 "metadata": {
  "kernelspec": {
   "display_name": "clip_prefix_caption",
   "language": "python",
   "name": "python3"
  },
  "language_info": {
   "codemirror_mode": {
    "name": "ipython",
    "version": 3
   },
   "file_extension": ".py",
   "mimetype": "text/x-python",
   "name": "python",
   "nbconvert_exporter": "python",
   "pygments_lexer": "ipython3",
   "version": "3.9.19"
  }
 },
 "nbformat": 4,
 "nbformat_minor": 2
}
